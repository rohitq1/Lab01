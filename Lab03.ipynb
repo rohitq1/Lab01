{
 "cells": [
  {
   "cell_type": "code",
   "execution_count": 1,
   "metadata": {},
   "outputs": [
    {
     "name": "stdout",
     "output_type": "stream",
     "text": [
      "Pair with sum 10 found: (3, 7)\n"
     ]
    }
   ],
   "source": [
    "def find_pair_with_sum(nums, target):\n",
    "    complement_dict = {}  \n",
    "    for num in nums:\n",
    "        complement = target - num\n",
    "        if complement in complement_dict: \n",
    "            return (complement, num)  \n",
    "        complement_dict[num] = True  \n",
    "    return None  \n",
    "nums = [3, 7, 1, 2, 9, 4]\n",
    "target = 10\n",
    "pair = find_pair_with_sum(nums, target)\n",
    "if pair:\n",
    "    print(\"Pair with sum\", target, \"found:\", pair)\n",
    "else:\n",
    "    print(\"No pair with sum\", target, \"found in the array.\")\n"
   ]
  },
  {
   "cell_type": "code",
   "execution_count": 2,
   "metadata": {},
   "outputs": [
    {
     "name": "stdout",
     "output_type": "stream",
     "text": [
      "Pair with maximum product: (9, 1)\n"
     ]
    }
   ],
   "source": [
    "def max_product_pair(nums):\n",
    "    max_product = float('-inf')\n",
    "    min_product = float('inf')\n",
    "    \n",
    "    max_num1 = max_num2 = None\n",
    "    min_num1 = min_num2 = None\n",
    "    \n",
    "    for num in nums:\n",
    "        if num > max_product:\n",
    "            max_product = num\n",
    "            max_num1 = num\n",
    "        elif num > max_product / 2 and num <= max_product:\n",
    "            max_product = num\n",
    "            max_num2 = num\n",
    "        \n",
    "        if num < min_product:\n",
    "            min_product = num\n",
    "            min_num1 = num\n",
    "        elif num < min_product / 2 and num >= min_product:\n",
    "            min_product = num\n",
    "            min_num2 = num\n",
    "    \n",
    "    if max_num2 is None or min_num2 is None:\n",
    "        return (max_num1, min_num1)\n",
    "    else:\n",
    "        return (max_num1 * max_num2, min_num1 * min_num2)\n",
    "nums = [1, 7, 4, 2, 8, 6, 3, 9, 5]\n",
    "pair = max_product_pair(nums)\n",
    "print(\"Pair with maximum product:\", pair)\n"
   ]
  },
  {
   "cell_type": "code",
   "execution_count": 3,
   "metadata": {},
   "outputs": [
    {
     "name": "stdout",
     "output_type": "stream",
     "text": [
      "Sorted array: [1, 2, 3, 4, 5]\n"
     ]
    }
   ],
   "source": [
    "def find_swapped_elements(nums):\n",
    "    first = second = None\n",
    "    for i in range(len(nums) - 1):\n",
    "        if nums[i] > nums[i + 1]:\n",
    "            if first is None:\n",
    "                first = i\n",
    "            else:\n",
    "                second = i + 1\n",
    "                break\n",
    "    if second is None:\n",
    "        second = first + 1\n",
    "    return first, second\n",
    "def sort_array(nums):\n",
    "    first, second = find_swapped_elements(nums)\n",
    "    nums[first], nums[second] = nums[second], nums[first]\n",
    "nums = [1, 3, 2, 4, 5]\n",
    "sort_array(nums)\n",
    "print(\"Sorted array:\", nums)\n"
   ]
  },
  {
   "cell_type": "code",
   "execution_count": 5,
   "metadata": {},
   "outputs": [
    {
     "name": "stdout",
     "output_type": "stream",
     "text": [
      "Segregat array: [0, 0, 0, 0, 0, 1, 1, 1, 1]\n"
     ]
    }
   ],
   "source": [
    "def segregate_zeros_and_ones(arr):\n",
    "    left = 0  \n",
    "    right = len(arr) - 1  \n",
    "    while left < right:\n",
    "        while arr[left] == 0 and left < right:\n",
    "            left += 1\n",
    "        \n",
    "        while arr[right] == 1 and left < right:\n",
    "            right -= 1\n",
    "        if left < right:\n",
    "            arr[left], arr[right] = arr[right], arr[left]\n",
    "            left += 1\n",
    "            right -= 1\n",
    "arr = [0, 1, 0, 1, 0, 0, 1, 1, 0]\n",
    "segregate_zeros_and_ones(arr)\n",
    "print(\"Segregat array:\", arr)\n"
   ]
  },
  {
   "cell_type": "code",
   "execution_count": 6,
   "metadata": {},
   "outputs": [
    {
     "name": "stdout",
     "output_type": "stream",
     "text": [
      "Sorted array: [1, 2, 4, 5, 9, 10, 13]\n",
      "Total count of inversions: 8\n"
     ]
    }
   ],
   "source": [
    "def merge_sort(arr):\n",
    "    if len(arr) <= 1:\n",
    "        return arr, 0  \n",
    "    \n",
    "    mid = len(arr) // 2\n",
    "    left_half, left_count = merge_sort(arr[:mid]) \n",
    "    right_half, right_count = merge_sort(arr[mid:])  \n",
    "    \n",
    "    merged_arr = []\n",
    "    i = j = inv_count = 0\n",
    "    \n",
    "    while i < len(left_half) and j < len(right_half):\n",
    "        if left_half[i] <= right_half[j]:\n",
    "            merged_arr.append(left_half[i])\n",
    "            i += 1\n",
    "        else:\n",
    "            merged_arr.append(right_half[j])\n",
    "            j += 1\n",
    "            inv_count += len(left_half) - i \n",
    "    merged_arr.extend(left_half[i:])  \n",
    "    merged_arr.extend(right_half[j:])  \n",
    "    \n",
    "    return merged_arr, inv_count + left_count + right_count  \n",
    "\n",
    "A = [10, 1, 2, 4, 13, 9, 5]\n",
    "sorted_A, inversions = merge_sort(A)\n",
    "print(\"Sorted array:\", sorted_A)\n",
    "print(\"Total count of inversions:\", inversions)\n"
   ]
  },
  {
   "cell_type": "code",
   "execution_count": 7,
   "metadata": {},
   "outputs": [
    {
     "name": "stdout",
     "output_type": "stream",
     "text": [
      "Yes, there exists a pair that sums up to 10 : (4, 6)\n"
     ]
    }
   ],
   "source": [
    "def has_pair_with_sum(arr, K):\n",
    "    n = len(arr)\n",
    "    for i in range(n):\n",
    "        for j in range(i+1, n):\n",
    "            if arr[i] + arr[j] == K:\n",
    "                return True, (arr[i], arr[j])\n",
    "    return False, None\n",
    "\n",
    "arr = [8, 4, 1, 6]\n",
    "K = 10\n",
    "result, pair = has_pair_with_sum(arr, K)\n",
    "if result:\n",
    "    print(\"Yes, there exists a pair that sums up to\", K, \":\", pair)\n",
    "else:\n",
    "    print(\"No, there is no pair that sums up to\", K)\n"
   ]
  }
 ],
 "metadata": {
  "kernelspec": {
   "display_name": "base",
   "language": "python",
   "name": "python3"
  },
  "language_info": {
   "codemirror_mode": {
    "name": "ipython",
    "version": 3
   },
   "file_extension": ".py",
   "mimetype": "text/x-python",
   "name": "python",
   "nbconvert_exporter": "python",
   "pygments_lexer": "ipython3",
   "version": "3.11.4"
  }
 },
 "nbformat": 4,
 "nbformat_minor": 2
}
