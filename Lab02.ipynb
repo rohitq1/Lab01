{
 "cells": [
  {
   "cell_type": "code",
   "execution_count": 2,
   "metadata": {},
   "outputs": [
    {
     "data": {
      "image/png": "[encoded data removed]",
      "text/plain": [
       "<Figure size 640x480 with 1 Axes>"
      ]
     },
     "metadata": {},
     "output_type": "display_data"
    }
   ],
   "source": [
    "import random\n",
    "import time\n",
    "import matplotlib.pyplot as plt\n",
    "\n",
    "def bubble_sort(arr):\n",
    "    n = len(arr)\n",
    "    for i in range(n-1):\n",
    "        for j in range(0, n-i-1):\n",
    "            if arr[j] > arr[j+1]:\n",
    "                arr[j], arr[j+1] = arr[j+1], arr[j]\n",
    "\n",
    "def selection_sort(arr):\n",
    "    n = len(arr)\n",
    "    for i in range(n):\n",
    "        min_index = i\n",
    "        for j in range(i+1, n):\n",
    "            if arr[j] < arr[min_index]:\n",
    "                min_index = j\n",
    "        arr[i], arr[min_index] = arr[min_index], arr[i]\n",
    "\n",
    "def insertion_sort(arr):\n",
    "    n = len(arr)\n",
    "    for i in range(1, n):\n",
    "        key = arr[i]\n",
    "        j = i - 1\n",
    "        while j >= 0 and key < arr[j]:\n",
    "            arr[j + 1] = arr[j]\n",
    "            j -= 1\n",
    "        arr[j + 1] = key\n",
    "\n",
    "def measure_sorting_time(sort_func, arr):\n",
    "    start_time = time.time()\n",
    "    sort_func(arr)\n",
    "    return time.time() - start_time\n",
    "\n",
    "random_numbers = [random.randint(1, 10000) for _ in range(1000)]\n",
    "\n",
    "sorting_algorithms = [bubble_sort, selection_sort, insertion_sort]\n",
    "algorithm_names = ['Bubble Sort', 'Selection Sort', 'Insertion Sort']\n",
    "\n",
    "sorting_times = []\n",
    "for sort_func in sorting_algorithms:\n",
    "    sorting_times.append(measure_sorting_time(sort_func, random_numbers.copy()))\n",
    "\n",
    "plt.bar(algorithm_names, sorting_times)\n",
    "plt.xlabel('Sorting Algorithm')\n",
    "plt.ylabel('Time (seconds)')\n",
    "plt.title('Time taken by Sorting Algorithms')\n",
    "plt.show()\n"
   ]
  },
  {
   "cell_type": "code",
   "execution_count": 3,
   "metadata": {},
   "outputs": [
    {
     "name": "stdout",
     "output_type": "stream",
     "text": [
      "Original Sorted Arrays:\n",
      "[1, 2, 3, 4]\n",
      "[5, 6, 7, 8]\n",
      "[9, 10, 11, 12]\n",
      "\n",
      "Merged Sorted Array:\n",
      "[1, 2, 3, 4, 5, 6, 7, 8, 9, 10, 11, 12]\n"
     ]
    }
   ],
   "source": [
    "import heapq\n",
    "\n",
    "def merge_sorted_arrays(arrays):\n",
    "    heap = []\n",
    "    for i, arr in enumerate(arrays):\n",
    "        if arr: \n",
    "            heapq.heappush(heap, (arr[0], i, 0))  \n",
    "    \n",
    "    merged_array = []\n",
    "    \n",
    "    while heap:\n",
    "        val, arr_idx, ele_idx = heapq.heappop(heap)  \n",
    "        merged_array.append(val) \n",
    "        \n",
    "        if ele_idx + 1 < len(arrays[arr_idx]):\n",
    "            heapq.heappush(heap, (arrays[arr_idx][ele_idx + 1], arr_idx, ele_idx + 1))\n",
    "    \n",
    "    return merged_array\n",
    "\n",
    "num_arrays = 3 \n",
    "array_length = 4\n",
    "\n",
    "arrays = [sorted([i * array_length + j + 1 for j in range(array_length)]) for i in range(num_arrays)]\n",
    "\n",
    "print(\"Original Sorted Arrays:\")\n",
    "for arr in arrays:\n",
    "    print(arr)\n",
    "\n",
    "merged_array = merge_sorted_arrays(arrays)\n",
    "print(\"\\nMerged Sorted Array:\")\n",
    "print(merged_array)\n",
    "\n",
    "\n"
   ]
  },
  {
   "cell_type": "code",
   "execution_count": 4,
   "metadata": {},
   "outputs": [
    {
     "name": "stdout",
     "output_type": "stream",
     "text": [
      "K largest elements: [8, 9, 10]\n"
     ]
    }
   ],
   "source": [
    "import heapq\n",
    "def find_k_largest_elements(nums, k):\n",
    "    min_heap = []\n",
    "    for num in nums:\n",
    "        heapq.heappush(min_heap, num)\n",
    "\n",
    "        if len(min_heap) > k:\n",
    "            heapq.heappop(min_heap)\n",
    "    return min_heap\n",
    "\n",
    "array = [3, 10, 4, 5, 1, 8, 2, 9]\n",
    "K = 3\n",
    "\n",
    "result = find_k_largest_elements(array, K)\n",
    "print(\"K largest elements:\", result)\n"
   ]
  },
  {
   "cell_type": "code",
   "execution_count": 5,
   "metadata": {},
   "outputs": [
    {
     "name": "stdout",
     "output_type": "stream",
     "text": [
      "Maximum number of activities: 4\n"
     ]
    }
   ],
   "source": [
    "def max_activities(activities):\n",
    "    activities.sort(key=lambda x: x[1])\n",
    "    \n",
    "    max_count = 1\n",
    "    prev_finish_time = activities[0][1]\n",
    "    \n",
    "    for activity in activities[1:]:\n",
    "        start_time, finish_time = activity\n",
    "        if start_time >= prev_finish_time:\n",
    "            max_count += 1\n",
    "            prev_finish_time = finish_time\n",
    "    \n",
    "    return max_count\n",
    "activities = [(1, 2), (3, 4), (0, 6), (5, 7), (8, 9), (5, 9)]\n",
    "max_count = max_activities(activities)\n",
    "print(\"Maximum number of activities:\", max_count)\n"
   ]
  },
  {
   "cell_type": "code",
   "execution_count": 6,
   "metadata": {},
   "outputs": [
    {
     "name": "stdout",
     "output_type": "stream",
     "text": [
      "Non-overlapping intervals after merging:\n",
      "[(1, 6), (8, 10), (15, 18)]\n"
     ]
    }
   ],
   "source": [
    "def merge_intervals(intervals):\n",
    "    intervals.sort(key=lambda x: x[0])\n",
    "    \n",
    "    merged_intervals = []\n",
    "    \n",
    "    for interval in intervals:\n",
    "        if not merged_intervals or interval[0] > merged_intervals[-1][1]:\n",
    "            merged_intervals.append(interval)\n",
    "        else:\n",
    "            merged_intervals[-1] = (merged_intervals[-1][0], max(merged_intervals[-1][1], interval[1]))\n",
    "    \n",
    "    return merged_intervals\n",
    "\n",
    "intervals = [(1, 3), (2, 6), (8, 10), (15, 18)]\n",
    "non_overlapping_intervals = merge_intervals(intervals)\n",
    "print(\"Non-overlapping intervals after merging:\")\n",
    "print(non_overlapping_intervals)\n"
   ]
  }
 ],
 "metadata": {
  "kernelspec": {
   "display_name": "base",
   "language": "python",
   "name": "python3"
  },
  "language_info": {
   "codemirror_mode": {
    "name": "ipython",
    "version": 3
   },
   "file_extension": ".py",
   "mimetype": "text/x-python",
   "name": "python",
   "nbconvert_exporter": "python",
   "pygments_lexer": "ipython3",
   "version": "3.11.4"
  }
 },
 "nbformat": 4,
 "nbformat_minor": 2
}
